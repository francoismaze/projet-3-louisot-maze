{
 "cells": [
  {
   "cell_type": "markdown",
   "metadata": {},
   "source": [
    "# Projet numérique - Probabilités"
   ]
  },
  {
   "cell_type": "markdown",
   "metadata": {},
   "source": [
    "On commence par récupérer les calculs du sujet 2020 utiles au sujet 2021."
   ]
  },
  {
   "cell_type": "code",
   "execution_count": 1,
   "metadata": {},
   "outputs": [],
   "source": [
    "#Chargement de dépendances\n",
    "import numpy as np\n",
    "import matplotlib.pyplot as plt\n",
    "\n",
    "#Discrétisation\n",
    "A=0\n",
    "B=500\n",
    "N=101 #Nombre de points de discrétisation\n",
    "Delta = (B-A)/(N-1)\n",
    "discretization_indexes = np.arange(N)\n",
    "discretization = discretization_indexes*Delta\n",
    "\n",
    "#Paramètres du modèle\n",
    "mu=-5\n",
    "a = 50\n",
    "sigma2 = 12\n",
    "\n",
    "#Données\n",
    "observation_indexes = [0,20,40,60,80,100]\n",
    "depth = np.array([0,-4,-12.8,-1,-6.5,0])\n",
    "\n",
    "#Indices des composantes correspondant aux observations et aux componsantes non observées\n",
    "unknown_indexes=list(set(discretization_indexes)-set(observation_indexes))"
   ]
  },
  {
   "cell_type": "code",
   "execution_count": 2,
   "metadata": {},
   "outputs": [],
   "source": [
    "#Fonction C\n",
    "def Covexp(dist,rangeval,sigmaval):\n",
    "    return sigmaval * np.exp(-dist/rangeval)"
   ]
  },
  {
   "cell_type": "code",
   "execution_count": 3,
   "metadata": {},
   "outputs": [],
   "source": [
    "#Matrice de distance\n",
    "distmat=abs(np.subtract.outer(discretization,discretization))"
   ]
  },
  {
   "cell_type": "code",
   "execution_count": 4,
   "metadata": {},
   "outputs": [],
   "source": [
    "#Matrice de covariance du vecteur Z\n",
    "Sigma=Covexp(distmat,a,sigma2)"
   ]
  },
  {
   "cell_type": "code",
   "execution_count": 5,
   "metadata": {},
   "outputs": [],
   "source": [
    "#Extraction des matrices de covariance utiles depuis la matrice Sigma\n",
    "SigmaObs = Sigma[observation_indexes,:][:,observation_indexes]\n",
    "SigmaObsUnknown = Sigma[observation_indexes,:][:,unknown_indexes]\n",
    "SigmaUnknown = Sigma[unknown_indexes,:][:,unknown_indexes]"
   ]
  },
  {
   "cell_type": "code",
   "execution_count": 6,
   "metadata": {},
   "outputs": [],
   "source": [
    "#Calcul espérance conditionnelle\n",
    "Ec= mu+np.matmul(np.transpose(SigmaObsUnknown),np.matmul(np.linalg.inv(SigmaObs),depth-mu))\n",
    "#Création du profil par la méthode de l'espérance conditionnelle\n",
    "allval1 = np.zeros(N)\n",
    "allval1[unknown_indexes]=Ec\n",
    "allval1[observation_indexes]=depth"
   ]
  },
  {
   "cell_type": "code",
   "execution_count": 7,
   "metadata": {},
   "outputs": [],
   "source": [
    "#Calcul de la matrice de covariance conditionnelle\n",
    "SigmaCond = SigmaUnknown - np.matmul(np.transpose(SigmaObsUnknown),np.matmul(np.linalg.inv(SigmaObs),SigmaObsUnknown))"
   ]
  },
  {
   "cell_type": "code",
   "execution_count": 8,
   "metadata": {},
   "outputs": [],
   "source": [
    "#Fonction de calcul de la longueur de câble nécessaire\n",
    "def length(z,delta):\n",
    "    return sum(np.sqrt(Delta**2+(z[1:N]-z[0:-1])**2))"
   ]
  },
  {
   "cell_type": "markdown",
   "metadata": {},
   "source": [
    "## Valeurs positives"
   ]
  },
  {
   "cell_type": "markdown",
   "metadata": {},
   "source": [
    "### Question 1"
   ]
  },
  {
   "cell_type": "markdown",
   "metadata": {},
   "source": [
    "Pour éviter les tirages de profils de profondeur qui présentent des altitudes positives, on utilise la méthode de rejet suivante : tant que tous les points du profil ne sont pas à une altitude négative, on tire à nouveau un profil."
   ]
  },
  {
   "cell_type": "code",
   "execution_count": 9,
   "metadata": {},
   "outputs": [],
   "source": [
    "above_0 = True\n",
    "while above_0 :\n",
    "    Cholesky = np.linalg.cholesky(SigmaCond)\n",
    "    x = np.random.normal(0, 1, np.shape(unknown_indexes)[0])\n",
    "    simu = Ec + np.matmul(Cholesky, x)  \n",
    "    if all(simu <= 0) :\n",
    "        above_0 = False"
   ]
  },
  {
   "cell_type": "markdown",
   "metadata": {},
   "source": [
    "On notera que cette méthode présente un taux de rejet très important. La condition \"tous les points du profil ont une altitude négative\" est en effet rarement vérifiée, d'où la nécessité d'un grand nombre de tirages (*cf*. le taux de rejet de la méthode calculé ci-après).\n",
    "\n",
    "On pourrait imaginer une méthode évitant de recalculer tout le profil dès lors qu'il y a un dépassement. Toutefois, à cause du produit matriciel $L\\cdot X$ où $X \\sim \\mathcal{N}(0,\\,1)$ et $L$ est la matrice de la décomposition de Cholesky de la matrice de covariance, une dépendance entre les différentes composantes est introduite. Il n'existe donc pas de méthode simple évitant de recalculer intégralement un nouveau profil."
   ]
  },
  {
   "cell_type": "markdown",
   "metadata": {
    "tags": []
   },
   "source": [
    "La cellule suivante affiche le profil de profondeur tiré :"
   ]
  },
  {
   "cell_type": "code",
   "execution_count": 10,
   "metadata": {
    "tags": []
   },
   "outputs": [
    {
     "data": {
      "image/png": "[encoded data removed]",
      "text/plain": [
       "<Figure size 432x288 with 1 Axes>"
      ]
     },
     "metadata": {
      "needs_background": "light"
     },
     "output_type": "display_data"
    }
   ],
   "source": [
    "allval3 = np.zeros(N)\n",
    "allval3[unknown_indexes] = simu\n",
    "allval3[observation_indexes] = depth\n",
    "plt.plot(discretization,allval3)\n",
    "plt.plot(discretization,allval1)\n",
    "plt.plot(discretization[observation_indexes], depth, 'ro')\n",
    "plt.show()"
   ]
  },
  {
   "cell_type": "markdown",
   "metadata": {},
   "source": [
    "### Question 2"
   ]
  },
  {
   "cell_type": "markdown",
   "metadata": {},
   "source": [
    "**Calcul de la valeur moyenne de la longueur du câble**"
   ]
  },
  {
   "cell_type": "code",
   "execution_count": 11,
   "metadata": {},
   "outputs": [],
   "source": [
    "#Version avec altitudes positives\n",
    "K_old = 10000\n",
    "\n",
    "def sim_result_old(K, N):\n",
    "    allval30 = np.zeros(N)\n",
    "    allval30[observation_indexes] = depth\n",
    "    result_old = np.zeros(K)\n",
    "    for i in range(K):\n",
    "        x=np.random.normal(0, 1, np.shape(unknown_indexes)[0])\n",
    "        allval30[unknown_indexes] = Ec + np.matmul(Cholesky, x)\n",
    "        result_old[i] = length(allval30, Delta)\n",
    "    return result_old\n",
    "\n",
    "result_old = sim_result_old(K_old, N)"
   ]
  },
  {
   "cell_type": "code",
   "execution_count": 12,
   "metadata": {},
   "outputs": [],
   "source": [
    "#Version sans altitudes positives\n",
    "K_new = 10000\n",
    "\n",
    "nb_loop = np.zeros(K_new)\n",
    "def sim_result_new(K, N):\n",
    "    allval31 = np.zeros(N)\n",
    "    allval31[observation_indexes] = depth\n",
    "    result_new = np.zeros(K)\n",
    "    for i in range(K):\n",
    "        above_0 = True\n",
    "        while above_0 :\n",
    "            nb_loop[i] += 1\n",
    "            x=np.random.normal(0, 1, np.shape(unknown_indexes)[0])\n",
    "            allval31[unknown_indexes] = Ec + np.matmul(Cholesky, x)\n",
    "            if all(allval31 <= 0):\n",
    "                above_0 = False\n",
    "        result_new[i] = length(allval31, Delta)\n",
    "    return result_new\n",
    "\n",
    "result_new = sim_result_new(K_new, N)"
   ]
  },
  {
   "cell_type": "markdown",
   "metadata": {},
   "source": [
    "*Remarque :* On note le temps de calcul bien plus long que dans la version où l'on accepte les altitudes positives. Ce temps de calcul est dû au fort taux de rejet de la méthode utilisée."
   ]
  },
  {
   "cell_type": "markdown",
   "metadata": {},
   "source": [
    "La valeur moyenne de la longueur du câble obtenue sur les $K = 10000$ tirages vaut :"
   ]
  },
  {
   "cell_type": "code",
   "execution_count": 13,
   "metadata": {},
   "outputs": [
    {
     "data": {
      "text/plain": [
       "521.7833960617314"
      ]
     },
     "execution_count": 13,
     "metadata": {},
     "output_type": "execute_result"
    }
   ],
   "source": [
    "sum(result_new)/K_new"
   ]
  },
  {
   "cell_type": "markdown",
   "metadata": {},
   "source": [
    "La longueur moyenne de câble avec la méthode sans rejet était autour de $522.5$ m pour $10 000$ tirages :"
   ]
  },
  {
   "cell_type": "code",
   "execution_count": 14,
   "metadata": {},
   "outputs": [
    {
     "data": {
      "text/plain": [
       "522.4721766778556"
      ]
     },
     "execution_count": 14,
     "metadata": {},
     "output_type": "execute_result"
    }
   ],
   "source": [
    "sum(result_old)/K_old"
   ]
  },
  {
   "cell_type": "markdown",
   "metadata": {},
   "source": [
    "Quand on interdit les parties émergées, on assiste à une diminution de la valeur moyenne de la longueur du câble. Cela s'explique assez naturellement par le fait que plus le profil du fond marin est régulier, plus le câble a tendance à être court (conséquence de l'inégalité triangulaire). De ce fait, en interdisant certaines anomalies positives, on lisse un peu le profil du fond près de la surface. Toutefois, la différence de longueur moyenne entre les deux méthodes est faible."
   ]
  },
  {
   "cell_type": "markdown",
   "metadata": {},
   "source": [
    "**Tracé de l'histogramme des profondeurs obtenues**"
   ]
  },
  {
   "cell_type": "code",
   "execution_count": 15,
   "metadata": {},
   "outputs": [
    {
     "data": {
      "image/png": "[encoded data removed]",
      "text/plain": [
       "<Figure size 432x288 with 1 Axes>"
      ]
     },
     "metadata": {
      "needs_background": "light"
     },
     "output_type": "display_data"
    }
   ],
   "source": [
    "#Affichage des deux distributions de longueur de câble\n",
    "plt.hist(result_old, 50, density=True,label = \"Old\", alpha = 0.7)\n",
    "plt.hist(result_new, 50, density=True,label = \"New\", alpha = 0.7)\n",
    "plt.legend()\n",
    "plt.show()"
   ]
  },
  {
   "cell_type": "markdown",
   "metadata": {},
   "source": [
    "L'histogramme avec la nouvelle méthode conserve bien une allure gaussienne mais est translaté vers des longueurs de câble plus faibles avec une queue de distribution tronquée à droite (du fait du rejet)."
   ]
  },
  {
   "cell_type": "markdown",
   "metadata": {},
   "source": [
    "**Intervalle de confiance obtenu par la méthode des quantiles**"
   ]
  },
  {
   "cell_type": "code",
   "execution_count": 16,
   "metadata": {},
   "outputs": [
    {
     "data": {
      "text/plain": [
       "array([517.17364065, 528.56309181])"
      ]
     },
     "execution_count": 16,
     "metadata": {},
     "output_type": "execute_result"
    }
   ],
   "source": [
    "np.quantile(result_old,[0.025, 0.975])"
   ]
  },
  {
   "cell_type": "code",
   "execution_count": 17,
   "metadata": {},
   "outputs": [
    {
     "data": {
      "text/plain": [
       "array([516.64820946, 527.66235899])"
      ]
     },
     "execution_count": 17,
     "metadata": {},
     "output_type": "execute_result"
    }
   ],
   "source": [
    "np.quantile(result_new,[0.025, 0.975])"
   ]
  },
  {
   "cell_type": "markdown",
   "metadata": {},
   "source": [
    "L'intervalle de confiance est lui aussi translaté vers les valeurs de longueur de câble plus faibles, ce qui est cohérent avec les histogrammes précédents."
   ]
  },
  {
   "cell_type": "markdown",
   "metadata": {},
   "source": [
    "**Estimation de la probabilité de dépassement du seuil de 525 m**"
   ]
  },
  {
   "cell_type": "code",
   "execution_count": 18,
   "metadata": {},
   "outputs": [
    {
     "data": {
      "text/plain": [
       "0.1891"
      ]
     },
     "execution_count": 18,
     "metadata": {},
     "output_type": "execute_result"
    }
   ],
   "source": [
    "np.mean(result_old > 525)"
   ]
  },
  {
   "cell_type": "code",
   "execution_count": 19,
   "metadata": {},
   "outputs": [
    {
     "data": {
      "text/plain": [
       "0.1282"
      ]
     },
     "execution_count": 19,
     "metadata": {},
     "output_type": "execute_result"
    }
   ],
   "source": [
    "np.mean(result_new > 525)"
   ]
  },
  {
   "cell_type": "markdown",
   "metadata": {},
   "source": [
    "Conformément aux résultats précédents, la probabilité que le câble doive mesurer plus que 525 m est plus faible dans le cas où on supprime les altitudes positives."
   ]
  },
  {
   "cell_type": "markdown",
   "metadata": {},
   "source": [
    "**Estimation du taux de rejet**"
   ]
  },
  {
   "cell_type": "markdown",
   "metadata": {},
   "source": [
    "Le taux de rejet est ici la probabilité qu'un profil de profondeur tiré au hasard présente une altitude positive pour au moins un point.\n",
    "\n",
    "On évalue cette probabilité en observant le nombre de fois que l'on a du passer dans la boucle pour obtenir $K_{new}$ profils de profondeur adpatés. Ce nombre est stocké dans le tableau $nb_{loop}$ (défini dans une cellule précédente)."
   ]
  },
  {
   "cell_type": "code",
   "execution_count": 20,
   "metadata": {},
   "outputs": [],
   "source": [
    "nb_loop_tot = sum(nb_loop)\n",
    "tx_rejet = (nb_loop_tot - K_new)/nb_loop_tot"
   ]
  },
  {
   "cell_type": "code",
   "execution_count": 21,
   "metadata": {},
   "outputs": [
    {
     "data": {
      "text/plain": [
       "0.9616066835085348"
      ]
     },
     "execution_count": 21,
     "metadata": {},
     "output_type": "execute_result"
    }
   ],
   "source": [
    "tx_rejet"
   ]
  },
  {
   "cell_type": "markdown",
   "metadata": {},
   "source": [
    "Le taux de rejet est donc de $96\\%$, ce qui est très élevé et explique donc le temps de calcul important de la méthode."
   ]
  },
  {
   "cell_type": "markdown",
   "metadata": {},
   "source": [
    "### Question 3"
   ]
  },
  {
   "cell_type": "markdown",
   "metadata": {
    "tags": []
   },
   "source": [
    "On a : $\\forall x=(z,\\mu^{*})$,\n",
    "$$f_{(\\mathbf{Z}_{\\text{OBS}},\\mu)}(x)=f_{\\mathbf{Z}_{\\text{OBS}}|\\mu=\\mu^{*}}(z)f_{\\mu}(\\mu^{*})=f_{\\mu|\\mathbf{Z}_{\\text{OBS}}=\\mathbf{z}}(\\mu^{*})f_{\\mathbf{Z}_{\\text{OBS}}}(z)\\quad(*)$$\n",
    "- Dans l'expression ci-dessus, $f_{\\mathbf{Z}_{\\text{OBS}}|\\mu=\\mu^{*}}$ la densité utilisée dans la partie I), qui correspond au cas où $\\mu$ est fixé, d'où $f_{\\mathbf{Z}_{\\text{OBS}}|\\mu=\\mu^{*}}(z)=\\frac{1}{(2\\pi)^{3}\\sqrt{det(C_{OBS})}}\\exp(-\\frac{1}{2}(z-\\mu^{*}\\mathbf{1})^T C_{OBS}^{-1}(z-\\mu^{*}\\mathbf{1}))$, où $\\mathbf{1}$ désigne un vecteur de taille 6 constitué que de 1\n",
    "- D'après l'énoncé, $f_{\\mu}(\\mu^{*})=\\frac{1}{2\\sqrt{2\\pi}}\\exp(-\\frac{1}{2}(\\frac{\\mu^{*}+5}{2})^{2})$\n",
    "- $\\mu$ est gaussien, $Z_{OBS}$ aussi par la partie I), question 3. Donc $\\mu|\\mathbf{Z}_{\\text{OBS}}=\\mathbf{z}$ est gaussien. On fixe $\\mathbf{z}=\\mathbf{z}_{\\text{OBS}}$ et on note $f_{\\mu|\\mathbf{Z}_{\\text{OBS}}=\\mathbf{z}_{\\text{OBS}}}(\\mu^{*})=\\frac{1}{\\sqrt{2\\pi}}\\frac{1}{\\widehat{\\sigma}}\\exp(-\\frac{1}{2}(\\frac{\\mu^{*}-\\widehat{\\mu}}{ \\widehat{\\sigma}})^2)$\n",
    "\n",
    "Dès lors, en composant $(*)$ par $-2\\ln$, on obtient :\n",
    "$$\\alpha+(\\mathbf{z}_{\\text{OBS}}-\\mu^{*}\\mathbf{1})^{T}C_{OBS}^{-1}(\\mathbf{z}_{\\text{OBS}}-\\mu^{*}\\mathbf{1})+\\beta+(\\frac{\\mu^{*}+5}{2})^{2}=\\gamma + (\\frac{\\mu^{*}-\\widehat{\\mu}}{\\widehat{\\sigma}})^{2}+\\delta$$\n",
    "où $\\alpha, \\beta, \\gamma, \\delta$ sont des constantes par rapport à $\\mu^{*}$, et l'égalité est vraie pour tout $\\mu^{*}$.\n",
    "\n",
    "D'où, $\\forall \\mu^{*}$ :\n",
    "$$\\alpha+\\beta+(\\frac{\\mu^{*}+5}{2})^{2}+\\mathbf{z}_{\\text{OBS}}^{T}C^{-1}\\mathbf{z}_{\\text{OBS}}+(\\mu^{*})^{2}\\mathbf{1}^{T}C_{OBS}^{-1}\\mathbf{1}-\\mu^{*}(\\mathbf{z}_{\\text{OBS}}^{T}C_{OBS}^{-1}\\mathbf{1}+\\mathbf{1}^{T}C_{OBS}^{-1}\\mathbf{z}_{\\text{OBS}})$$\n",
    "$$=\\alpha+\\beta+(\\frac{5}{2})^{2}+\\mu^{*}(\\frac{5}{2}-\\mathbf{z}_{\\text{OBS}}^{T}C_{OBS}^{-1}\\mathbf{1}-\\mathbf{1}^{T}C_{OBS}^{-1}\\mathbf{z}_{\\text{OBS}})+(\\mu^{*})^{2}(\\mathbf{1}^{T}C_{OBS}^{-1}\\mathbf{1}+\\frac{1}{4})$$\n",
    "$$=\\gamma+\\delta+\\widehat{\\mu}^{2}\\widehat{\\sigma}^{-2}-\\mu^{*}\\frac{2\\widehat{\\mu}}{\\widehat{\\sigma}^{2}}+(\\mu^{*})^{2}\\widehat{\\sigma}^{-2}$$\n",
    "Ceci étant vrai pour tout $\\mu^{*}$, on peut identifier les coefficients des deux polynômes :\n",
    "$$\n",
    "\\left\\{\n",
    "    \\begin{array}{ll}\n",
    "        \\mathbf{1}^{T}C_{OBS}^{-1}\\mathbf{1}+\\frac{1}{4} = \\widehat{\\sigma}^{-2}\\quad (1)\\\\\n",
    "        \\mathbf{z}_{\\text{OBS}}^{T}C_{OBS}^{-1}\\mathbf{1}+\\mathbf{1}^{T}C_{OBS}^{-1}\\mathbf{z}_{\\text{OBS}}-\\frac{5}{2}=\\frac{2\\widehat{\\mu}}{\\widehat{\\sigma}^{2}}\\quad (2)\n",
    "    \\end{array}\n",
    "\\right.\n",
    "$$\n",
    "Ainsi, par $(1)$, on obtient $\\widehat{\\sigma}^{2}=(\\mathbf{1}^{T}C_{OBS}^{-1}\\mathbf{1}+\\frac{1}{4})^{-1}$.\n",
    "\n",
    "$C_{OBS}$ étant symétrique, on a de plus, par $(2)$ : $\\widehat{\\mu}=\\widehat{\\sigma}^{2}(\\mathbf{1}^{T}C_{OBS}^{-1}\\mathbf{z}_{\\text{OBS}}-\\frac{5}{4})$."
   ]
  },
  {
   "cell_type": "markdown",
   "metadata": {},
   "source": [
    "### Question 4"
   ]
  },
  {
   "cell_type": "markdown",
   "metadata": {
    "tags": []
   },
   "source": [
    "Soient $X$, $Y$ et $Z$ trois vecteurs aléatoires à densité. Soient $x$, $y$, $z$ des éléments de $X(\\Omega)$, $Y(\\Omega)$, $Z(\\Omega)$ respectivement et tel que $f_{Z}(z)>0$. D'après la formule de la densité conditionnelle :\n",
    "$$f_{X,Y|Z=z}(x,y)=\\frac{f_{Z,X,Y}(z,x,y)}{f_{Z}(z)}=\\frac{f_{X,(Y,Z)}(x,(y,z))}{f_{Z}(z)}$$\n",
    "D'où :\n",
    "$$f_{X,Y|Z=z}(x,y)=\\frac{f_{(Y,Z)}(y,z)f_{X|(Y,Z)=(y,z)}(x)}{f_{Z}(z)}=\\frac{f_{Y|Z=z}(y)f_{Z}(z)f_{X|(Y,Z)=(y,z)}(x)}{f_{Z}(z)}=f_{Y|Z=z}(y)f_{X|(Y,Z)=(y,z)}(x)$$\n",
    "D'où l'égalité voulue."
   ]
  },
  {
   "cell_type": "markdown",
   "metadata": {},
   "source": [
    "### Question 5"
   ]
  },
  {
   "cell_type": "markdown",
   "metadata": {
    "tags": []
   },
   "source": [
    "De la question 4, que l'on peut appliquer car $f_{\\mathbf{Z}_{\\text{OBS}}}(\\mathbf{z}_{\\text{OBS}}) > 0$, on déduit :\n",
    "$$f_{(\\mathbf{Z}_{\\text{UNK}},\\mu)|\\mathbf{Z}_{\\text{OBS}}=\\mathbf{z}_{\\text{OBS}}}(\\mathbf{z}_{\\text{UNK}},\\mu^{*})=f_{\\mathbf{Z}_{\\text{UNK}}|\\mu=\\mu^{*},Z_{OBS}=z_{OBS}}(\\mathbf{z}_{\\text{UNK}})f_{\\mu | \\mathbf{Z}_{\\text{OBS}}=\\mathbf{z}_{\\text{OBS}}}(\\mu^{*})$$\n",
    "\n",
    "Or, $\\mu | \\mathbf{Z}_{\\text{OBS}}=\\mathbf{z}_{\\text{OBS}}$ suit une loi normale $\\mathcal{N}(\\widehat{\\mu},\\widehat{\\sigma}^2)$. Donc :\n",
    "$$f_{\\mu | \\mathbf{Z}_{\\text{OBS}}=\\mathbf{z}_{\\text{OBS}}}(\\mu^{*})=\\frac{1}{\\sqrt{2\\pi}\\widehat{\\sigma}}\\exp(-\\frac{(\\mu^{*}-\\widehat{\\mu})^{2}}{2\\widehat{\\sigma}^{2}})$$\n",
    "\n",
    "De plus, en fixant la valeur de $\\mu$ à $\\mu^{*}$, on obtient que\n",
    "$f_{\\mathbf{Z}_{\\text{UNK}}|\\mu=\\mu^{*},Z_{OBS}=z_{OBS}}(\\mathbf{z}_{\\text{UNK}})=f_{\\mathbf{Z}_{\\text{UNK}}| \\mathbf{Z}_{\\text{OBS}} = \\mathbf{z}_{\\text{OBS}}}(\\mathbf{z}_{\\text{UNK}})$ en choisissant $\\mu=\\mu^{*}$ dans cette seconde densité.\n",
    "\n",
    "Si $\\mu=\\mu^{*}$, en notant $N$ le nombre total de points :\n",
    "$$f_{\\mathbf{Z}_{\\text{UNK}}| \\mathbf{Z}_{\\text{OBS}} = \\mathbf{z}_{\\text{OBS}}}(\\mathbf{z}_{\\text{UNK}}) = \\frac{1}{(2\\pi)^{\\frac{N-6}{2}}\\sqrt{det(S)}}\\exp(-\\frac{1}{2}(\\mathbf{z}_{\\text{UNK}}-m_{\\mathbf{z}_{\\text{UNK}}|\\mathbf{Z}_{\\text{OBS}} = \\mathbf{z}_{\\text{OBS}}})^{T} S^{-1}(\\mathbf{z}_{\\text{UNK}}-m_{\\mathbf{z}_{\\text{UNK}}|\\mathbf{Z}_{\\text{OBS}} = \\mathbf{z}_{\\text{OBS}}}))$$\n",
    "où $S$ désigne le complément de Schur de la matrice $C_{\\text{UNK}}$, *i.e.* $S=C_{\\text{UNK}}-C_{\\text{UNK},\\text{OBS}}C_{\\text{OBS}}^{-1}C_{\\text{OBS},\\text{UNK}}$ et $m_{\\mathbf{z}_{\\text{UNK}}|\\mathbf{Z}_{\\text{OBS}} = \\mathbf{z}_{\\text{OBS}}}=\\mu^{*}\\widehat{\\mathbf{1}}+C_{\\text{UNK},\\text{OBS}}C_{\\text{OBS}}^{-1}(\\mathbf{z}_{\\text{OBS}}-\\mu^{*}\\mathbf{1})$, où $\\mathbf{1}$ désigne un vecteur de taille 6 dont tous les coefficients sont égaux à 1 et $\\widehat{\\mathbf{1}}$ désigne un vecteur de taille $N-6$ avec que des 1."
   ]
  },
  {
   "cell_type": "markdown",
   "metadata": {},
   "source": [
    "### Question 6"
   ]
  },
  {
   "cell_type": "markdown",
   "metadata": {
    "tags": []
   },
   "source": [
    "On calcule les deux paramètres $\\widehat{\\mu}$ et $\\widehat{\\sigma}^2$ en appliquant les formules trouvées à la question 3 :"
   ]
  },
  {
   "cell_type": "code",
   "execution_count": 22,
   "metadata": {},
   "outputs": [],
   "source": [
    "one = np.ones(6)\n",
    "sigma_chap_2 = 1/(np.matmul(np.matmul(np.transpose(one), np.linalg.inv(SigmaObs)), one) + 1/4)\n",
    "mu_chap = sigma_chap_2*(np.matmul(np.matmul(np.transpose(one), np.linalg.inv(SigmaObs)), depth) - 5/4)"
   ]
  },
  {
   "cell_type": "code",
   "execution_count": 23,
   "metadata": {},
   "outputs": [
    {
     "data": {
      "text/plain": [
       "(1.5368909974762894, -4.291350330933772)"
      ]
     },
     "execution_count": 23,
     "metadata": {},
     "output_type": "execute_result"
    }
   ],
   "source": [
    "sigma_chap_2, mu_chap"
   ]
  },
  {
   "cell_type": "markdown",
   "metadata": {},
   "source": [
    "On obtient une valeur pour $\\widehat{\\mu}$ légèrement supérieure à $-5$ qui est l'espérance *a priori*. De fait la profondeur moyenne sur les observations (calculée ci-dessous) est légèrement supérieure à $-5$, ce qui explique une correction par excès lors de la prise en compte des observations."
   ]
  },
  {
   "cell_type": "code",
   "execution_count": 24,
   "metadata": {},
   "outputs": [
    {
     "data": {
      "text/plain": [
       "-4.05"
      ]
     },
     "execution_count": 24,
     "metadata": {},
     "output_type": "execute_result"
    }
   ],
   "source": [
    "np.mean(depth)"
   ]
  },
  {
   "cell_type": "markdown",
   "metadata": {},
   "source": [
    "### Question 7"
   ]
  },
  {
   "cell_type": "markdown",
   "metadata": {},
   "source": [
    "On calcule la probabilité de $\\{\\mu| \\mathbf{Z}_{\\text{OBS}} = \\mathbf{z}_{\\text{OBS}} > 0\\}$ en utilisant *scipy.stats* et le fait que $\\mu | \\mathbf{Z}_{\\text{OBS}}= \\mathbf{z}_{\\text{OBS}} \\sim \\mathcal{N}(\\widehat{\\mu},\\widehat{\\sigma}^2)$, d'après la question 3."
   ]
  },
  {
   "cell_type": "code",
   "execution_count": 25,
   "metadata": {},
   "outputs": [
    {
     "data": {
      "text/plain": [
       "0.002617321506132586"
      ]
     },
     "execution_count": 25,
     "metadata": {},
     "output_type": "execute_result"
    }
   ],
   "source": [
    "import scipy.stats\n",
    "\n",
    "1 - scipy.stats.norm(mu_chap, sigma_chap_2).cdf(0)"
   ]
  },
  {
   "cell_type": "markdown",
   "metadata": {},
   "source": [
    "Pour simuler $\\mu| \\mathbf{Z}_{\\text{OBS}} = \\mathbf{z}_{\\text{OBS}}, \\mu <0$, on propose une méthode de rejet :\n",
    "- générer une valeur de $\\mu$ selon la loi $\\mathcal{N}(\\widehat{\\mu},\\widehat{\\sigma}^2)$,\n",
    "- si la valeur tirée est positive, on l'ignore, sinon on la prend en compte dans le calcul de la moyenne,\n",
    "- on itère tant qu'on n'a pas obtenu $N_{val}$ points.\n",
    "\n",
    "On calcule l'espérance de $\\mu| \\mathbf{Z}_{\\text{OBS}} = \\mathbf{z}_{\\text{OBS}}, \\mu <0$ :"
   ]
  },
  {
   "cell_type": "code",
   "execution_count": 26,
   "metadata": {
    "tags": []
   },
   "outputs": [
    {
     "data": {
      "text/plain": [
       "-4.292053482969596"
      ]
     },
     "execution_count": 26,
     "metadata": {},
     "output_type": "execute_result"
    }
   ],
   "source": [
    "N_val = 10000 #nombre de valeurs que l'on souhaite pour moyenner\n",
    "res = 0 #somme partielle\n",
    "nb_val = 0 #nombre de valeurs effectivement retenues\n",
    "\n",
    "while nb_val < N_val:\n",
    "    mu = mu_chap + ((sigma_chap_2)**0.5)*np.random.randn()\n",
    "    if mu < 0:\n",
    "        res += mu\n",
    "        nb_val += 1\n",
    "\n",
    "res = res/N_val\n",
    "res #valeur approchée de l'espérance"
   ]
  },
  {
   "cell_type": "markdown",
   "metadata": {},
   "source": [
    "Cette espérance conditionnelle est très proche de $\\widehat{\\mu}$ ; ce qui est normal puisque $\\mu| \\mathbf{Z}_{\\text{OBS}} = \\mathbf{z}_{\\text{OBS}}$ est positive avec une probabilité très faible (*c.f.* calcul ci-dessus)."
   ]
  },
  {
   "cell_type": "markdown",
   "metadata": {},
   "source": [
    "### Question 8"
   ]
  },
  {
   "cell_type": "markdown",
   "metadata": {},
   "source": [
    "Pour générer le couple $\\mathbf{Z}_{\\text{UNK}}, \\mu| \\mathbf{Z}_{\\text{OBS}}, \\mu <0$, on utilise une *méthode de rejets successifs* :\n",
    "- on tire d'abord un $\\mu$ selon la loi normale précédente et on ne le conserve dans la suite qu'à condition qu'il vérifie $\\mu<0$,\n",
    "- une fois $\\mu$ tiré, on génère le profil en éliminant tous les profils tels qu'un des points soit à altitude positive."
   ]
  },
  {
   "cell_type": "code",
   "execution_count": 27,
   "metadata": {},
   "outputs": [],
   "source": [
    "N = 101\n",
    "\n",
    "def simulation():\n",
    "\n",
    "    Cholesky = np.linalg.cholesky(SigmaCond)\n",
    "    not_emerged = False\n",
    "    mu = 0.\n",
    "    founded = False\n",
    "\n",
    "    while not founded:\n",
    "        mu = mu_chap + ((sigma_chap_2)**0.5)*np.random.randn()\n",
    "        if mu < 0.:\n",
    "            founded = True\n",
    "\n",
    "    Ec= mu + np.matmul(np.transpose(SigmaObsUnknown), np.matmul(np.linalg.inv(SigmaObs), depth - mu))\n",
    "\n",
    "    while not not_emerged:\n",
    "        X = np.random.normal(0, 1, np.shape(unknown_indexes)[0])\n",
    "        simu = Ec + np.matmul(Cholesky,X)\n",
    "        if np.all(simu < 0.):\n",
    "            not_emerged = True\n",
    "\n",
    "    return simu, mu"
   ]
  },
  {
   "cell_type": "code",
   "execution_count": 28,
   "metadata": {},
   "outputs": [
    {
     "data": {
      "image/png": "[encoded data removed]",
      "text/plain": [
       "<Figure size 432x288 with 1 Axes>"
      ]
     },
     "metadata": {
      "needs_background": "light"
     },
     "output_type": "display_data"
    }
   ],
   "source": [
    "#Affichage d'un profil\n",
    "allval4 = np.zeros(N)\n",
    "allval4[unknown_indexes] = simulation()[0]\n",
    "allval4[observation_indexes] = depth\n",
    "plt.plot(discretization,allval4)\n",
    "plt.plot(discretization,allval1)\n",
    "plt.plot(discretization[observation_indexes], depth, 'ro')\n",
    "plt.show()"
   ]
  },
  {
   "cell_type": "markdown",
   "metadata": {},
   "source": [
    "Notons que, d'après la question 7, le premier rejet présente un taux de rejet très faible, car $P(\\mu| \\mathbf{Z}_{\\text{OBS}} = \\mathbf{z}_{\\text{OBS}} > 0)\\approx 0,003$.\n",
    "\n",
    "En revanche, le second rejet a un taux de rejet très élevé proche du taux calculé précédemment ($\\approx 95\\%$)."
   ]
  },
  {
   "cell_type": "markdown",
   "metadata": {},
   "source": [
    "### Question 9"
   ]
  },
  {
   "cell_type": "markdown",
   "metadata": {},
   "source": [
    "On génère à présent $K=10000$ profils de profondeur dont on calcule la longueur de câble associée :"
   ]
  },
  {
   "cell_type": "code",
   "execution_count": 29,
   "metadata": {
    "scrolled": true,
    "tags": []
   },
   "outputs": [],
   "source": [
    "K = 10000\n",
    "def sim_result_final(K, N):\n",
    "    allval4 = np.zeros(N)\n",
    "    allval4[observation_indexes] = depth\n",
    "    result_final = np.zeros(K)\n",
    "    for i in range(K):\n",
    "        simu = simulation()[0]\n",
    "        allval4[unknown_indexes] = simu\n",
    "        result_final[i] = length(allval4,Delta)\n",
    "    return result_final"
   ]
  },
  {
   "cell_type": "code",
   "execution_count": 30,
   "metadata": {},
   "outputs": [],
   "source": [
    "#Simulation des 10000 profils\n",
    "result_final = sim_result_final(K, N)"
   ]
  },
  {
   "cell_type": "markdown",
   "metadata": {},
   "source": [
    "**Calcul de la valeur moyenne de la longueur du câble**"
   ]
  },
  {
   "cell_type": "markdown",
   "metadata": {},
   "source": [
    "La valeur moyenne de la longueur du câble obtenue sur les $K = 10000$ tirages vaut :"
   ]
  },
  {
   "cell_type": "code",
   "execution_count": 31,
   "metadata": {},
   "outputs": [
    {
     "data": {
      "text/plain": [
       "521.7233242232039"
      ]
     },
     "execution_count": 31,
     "metadata": {},
     "output_type": "execute_result"
    }
   ],
   "source": [
    "sum(result_final)/K_new"
   ]
  },
  {
   "cell_type": "markdown",
   "metadata": {},
   "source": [
    "Les longueurs moyennes de câble avec les deux méthodes précédentes (old et new) étaient :"
   ]
  },
  {
   "cell_type": "code",
   "execution_count": 32,
   "metadata": {},
   "outputs": [
    {
     "name": "stdout",
     "output_type": "stream",
     "text": [
      "522.4721766778556\n",
      "521.7833960617314\n"
     ]
    }
   ],
   "source": [
    "print(sum(result_old)/K_old)\n",
    "print(sum(result_new)/K_new)"
   ]
  },
  {
   "cell_type": "markdown",
   "metadata": {},
   "source": [
    "Vérifions la convergence de cette valeur moyenne pour chacun des 3 modèles (on utilise chaque fois $K=10000$) :"
   ]
  },
  {
   "cell_type": "code",
   "execution_count": 33,
   "metadata": {},
   "outputs": [
    {
     "data": {
      "image/png": "[encoded data removed]",
      "text/plain": [
       "<Figure size 432x288 with 1 Axes>"
      ]
     },
     "metadata": {
      "needs_background": "light"
     },
     "output_type": "display_data"
    }
   ],
   "source": [
    "#Tracé graphe convergence\n",
    "indice_simu = 1 + np.arange(K)\n",
    "plt.plot(indice_simu,np.cumsum(result_new)/indice_simu, label = 'New')\n",
    "plt.plot(indice_simu,np.cumsum(result_old)/indice_simu, label = 'Old')\n",
    "plt.plot(indice_simu,np.cumsum(result_final)/indice_simu, label = 'Bayes')\n",
    "plt.legend()\n",
    "plt.ylim(521., 523.)\n",
    "plt.show()"
   ]
  },
  {
   "cell_type": "markdown",
   "metadata": {},
   "source": [
    "**Tracé de l'histogramme des profondeurs obtenues**"
   ]
  },
  {
   "cell_type": "code",
   "execution_count": 35,
   "metadata": {},
   "outputs": [
    {
     "data": {
      "image/png": "[encoded data removed]",
      "text/plain": [
       "<Figure size 432x288 with 1 Axes>"
      ]
     },
     "metadata": {
      "needs_background": "light"
     },
     "output_type": "display_data"
    }
   ],
   "source": [
    "plt.hist(result_old, 50, density = True,label = \"Old\")\n",
    "plt.hist(result_new, 50, density = True,label = \"New\")\n",
    "plt.hist(result_final, 50, density = True,label = \"Bayes\", alpha = 0.4)\n",
    "plt.legend()\n",
    "plt.show()"
   ]
  },
  {
   "cell_type": "markdown",
   "metadata": {},
   "source": [
    "**Intervalle de confiance obtenu par la méthode des quantiles**"
   ]
  },
  {
   "cell_type": "code",
   "execution_count": 36,
   "metadata": {},
   "outputs": [
    {
     "data": {
      "text/plain": [
       "array([517.17364065, 528.56309181])"
      ]
     },
     "execution_count": 36,
     "metadata": {},
     "output_type": "execute_result"
    }
   ],
   "source": [
    "np.quantile(result_old,[0.025, 0.975])"
   ]
  },
  {
   "cell_type": "code",
   "execution_count": 37,
   "metadata": {},
   "outputs": [
    {
     "data": {
      "text/plain": [
       "array([516.64820946, 527.66235899])"
      ]
     },
     "execution_count": 37,
     "metadata": {},
     "output_type": "execute_result"
    }
   ],
   "source": [
    "np.quantile(result_new,[0.025, 0.975])"
   ]
  },
  {
   "cell_type": "code",
   "execution_count": 38,
   "metadata": {},
   "outputs": [
    {
     "data": {
      "text/plain": [
       "array([516.53761013, 527.68130768])"
      ]
     },
     "execution_count": 38,
     "metadata": {},
     "output_type": "execute_result"
    }
   ],
   "source": [
    "np.quantile(result_final,[0.025, 0.975])"
   ]
  },
  {
   "cell_type": "markdown",
   "metadata": {},
   "source": [
    "**Estimation de la probabilité de dépassement du seuil de 525 m**"
   ]
  },
  {
   "cell_type": "code",
   "execution_count": 39,
   "metadata": {},
   "outputs": [
    {
     "data": {
      "text/plain": [
       "0.1891"
      ]
     },
     "execution_count": 39,
     "metadata": {},
     "output_type": "execute_result"
    }
   ],
   "source": [
    "np.mean(result_old > 525)"
   ]
  },
  {
   "cell_type": "code",
   "execution_count": 40,
   "metadata": {},
   "outputs": [
    {
     "data": {
      "text/plain": [
       "0.1282"
      ]
     },
     "execution_count": 40,
     "metadata": {},
     "output_type": "execute_result"
    }
   ],
   "source": [
    "np.mean(result_new > 525)"
   ]
  },
  {
   "cell_type": "code",
   "execution_count": 41,
   "metadata": {},
   "outputs": [
    {
     "data": {
      "text/plain": [
       "0.1242"
      ]
     },
     "execution_count": 41,
     "metadata": {},
     "output_type": "execute_result"
    }
   ],
   "source": [
    "np.mean(result_final > 525)"
   ]
  },
  {
   "cell_type": "markdown",
   "metadata": {},
   "source": [
    "Tous ces indicateurs montrent que l'approche Bayésienne qui consiste à considérer $\\mu$ comme une variable aléatoire conduit à un raffinement de  la moyenne de la longueur de câble calculée. On note toutefois que la différence entre le modèle *new* (rejet des profils à altitude positive) et le modèle *bayes* (approche bayésienne et rejet) est minime.\n",
    "En particulier, les modifications apportées par la méthode bayésienne induisent des corrections bien moindres que celles apportées par *new* à la version *old*."
   ]
  },
  {
   "cell_type": "markdown",
   "metadata": {},
   "source": [
    "### Question 10"
   ]
  },
  {
   "cell_type": "markdown",
   "metadata": {},
   "source": [
    "Compte tenu des résultats des questions précédentes, on peut supposer q'appliquer une approche bayésienne sur les paramètres $\\sigma^2$ et $a$ (les paramètres de la fonction $C$) conduirait à un raffinement de l'estimation de la longueur du câble.\n",
    "En effet, on constate que la mise en oeuvre d'une approche bayésienne pour $\\mu$ a conduit à une légère modification de la longueur moyenne du câble. Cependant cette modification est nettement moins significative que celle induite par l'interdiction des profondeurs positives, ce qui laisse penser qu'il en sera de même pour une approche bayésienne relative à $\\sigma^2$ et $a$ : un nouveau raffinement mais peu significatif."
   ]
  }
 ],
 "metadata": {
  "kernelspec": {
   "display_name": "Python 3",
   "language": "python",
   "name": "python3"
  },
  "language_info": {
   "codemirror_mode": {
    "name": "ipython",
    "version": 3
   },
   "file_extension": ".py",
   "mimetype": "text/x-python",
   "name": "python",
   "nbconvert_exporter": "python",
   "pygments_lexer": "ipython3",
   "version": "3.8.3"
  }
 },
 "nbformat": 4,
 "nbformat_minor": 4
}
